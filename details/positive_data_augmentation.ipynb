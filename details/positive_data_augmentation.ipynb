{
 "metadata": {
  "language_info": {
   "codemirror_mode": {
    "name": "ipython",
    "version": 3
   },
   "file_extension": ".py",
   "mimetype": "text/x-python",
   "name": "python",
   "nbconvert_exporter": "python",
   "pygments_lexer": "ipython3",
   "version": 3
  },
  "orig_nbformat": 2
 },
 "nbformat": 4,
 "nbformat_minor": 2,
 "cells": [
  {
   "source": [
    "Dataset Augmentation strategies typically rely on exploiting **invariances** of the $p_{data}$ data distribution: knowing there is a class of functions $F_{inv} = \\{ f \\} \\quad f: X \\rightarrow X$ transforming data points in data points so that \n",
    "\n",
    "$$ x \\in p_{data} \\Rightarrow f_{inv}(x) \\in p_{data} \\quad \\forall f_{inv} \\in F_{inv} $$\n",
    "\n",
    "This is used to produce generated positive samples from collected positive samples \n",
    "\n"
   ],
   "cell_type": "markdown",
   "metadata": {}
  },
  {
   "cell_type": "code",
   "execution_count": null,
   "metadata": {},
   "outputs": [],
   "source": []
  }
 ]
}