{
 "metadata": {
  "language_info": {
   "codemirror_mode": {
    "name": "ipython",
    "version": 3
   },
   "file_extension": ".py",
   "mimetype": "text/x-python",
   "name": "python",
   "nbconvert_exporter": "python",
   "pygments_lexer": "ipython3",
   "version": 3
  },
  "orig_nbformat": 2
 },
 "nbformat": 4,
 "nbformat_minor": 2,
 "cells": [
  {
   "source": [
    "The core idea of negative data augmentation is similar to the one of [positive data augmentation](positive_data_augmentation.ipynb): what is exploited is again the knowledge that functions data points manipulating functions $f_{nda}: X \\rightarrow X$ exists so that points belonging to the data distribution are mapped outside of the data distribution \n",
    "\n",
    "$$ x \\in p_{data} \\Rightarrow f_{nda}(x) \\notin p_{data} $$\n",
    "\n"
   ],
   "cell_type": "markdown",
   "metadata": {}
  },
  {
   "cell_type": "code",
   "execution_count": null,
   "metadata": {},
   "outputs": [],
   "source": []
  }
 ]
}